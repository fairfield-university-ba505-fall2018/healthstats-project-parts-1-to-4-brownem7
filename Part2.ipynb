{
 "cells": [
  {
   "cell_type": "markdown",
   "metadata": {},
   "source": [
    "# Health Stats Part 2: Dictionaries"
   ]
  },
  {
   "cell_type": "markdown",
   "metadata": {},
   "source": [
    "<!--- Paste in your explanation of Waist-to-Hip ratios from Part 1. --->\n",
    " **The Waist-hip ratio** or **Waist-to-hip ratio (WHR)** is the dimensionless ratio of the circumference of the waist to that of the hips. *This is calculated as waist measurement divided by hip measurement(* **W/H** *)* The Results are used as an indicator or measure of health, and the risk of serious health conditions."
   ]
  },
  {
   "cell_type": "markdown",
   "metadata": {},
   "source": [
    "## Source Data "
   ]
  },
  {
   "cell_type": "markdown",
   "metadata": {},
   "source": [
    "<!--- Paste in your data definitions from Part 1. Then Try to organize them into a table in Markdown. --->\n",
    "1. ID The number assigned to the person \"Int\"\n",
    "1. Waist \"Int\"\n",
    "1. Hip \"Int\"\n",
    "1. Gender \"String\""
   ]
  },
  {
   "cell_type": "markdown",
   "metadata": {},
   "source": [
    "## Data Import"
   ]
  },
  {
   "cell_type": "code",
   "execution_count": 60,
   "metadata": {},
   "outputs": [],
   "source": [
    "# Goal: Extract the data from the file\n",
    "\n",
    "# opens the w2h_data.csv for reading\n",
    "f = open(\"w2h_data.csv\", \"r\")\n",
    "\n",
    "# loads the file into a list of strings, one string per line\n",
    "raw_lines = list(f)\n",
    "\n",
    "# closes the file\n",
    "f.close()"
   ]
  },
  {
   "cell_type": "code",
   "execution_count": 63,
   "metadata": {},
   "outputs": [
    {
     "name": "stdout",
     "output_type": "stream",
     "text": [
      "[{'ID': 1, 'Waist': 30, 'Hip': 32, 'Gender': 'M'}, {'ID': 2, 'Waist': 32, 'Hip': 37, 'Gender': 'M'}, {'ID': 3, 'Waist': 30, 'Hip': 36, 'Gender': 'M'}, {'ID': 4, 'Waist': 33, 'Hip': 39, 'Gender': 'M'}, {'ID': 5, 'Waist': 29, 'Hip': 33, 'Gender': 'M'}, {'ID': 6, 'Waist': 32, 'Hip': 38, 'Gender': 'M'}, {'ID': 7, 'Waist': 33, 'Hip': 42, 'Gender': 'M'}, {'ID': 8, 'Waist': 30, 'Hip': 40, 'Gender': 'M'}, {'ID': 9, 'Waist': 30, 'Hip': 37, 'Gender': 'M'}, {'ID': 10, 'Waist': 32, 'Hip': 39, 'Gender': 'M'}, {'ID': 11, 'Waist': 24, 'Hip': 35, 'Gender': 'F'}, {'ID': 12, 'Waist': 25, 'Hip': 37, 'Gender': 'F'}, {'ID': 13, 'Waist': 24, 'Hip': 37, 'Gender': 'F'}, {'ID': 14, 'Waist': 22, 'Hip': 34, 'Gender': 'F'}, {'ID': 15, 'Waist': 26, 'Hip': 38, 'Gender': 'F'}, {'ID': 16, 'Waist': 26, 'Hip': 37, 'Gender': 'F'}, {'ID': 17, 'Waist': 25, 'Hip': 38, 'Gender': 'F'}, {'ID': 18, 'Waist': 26, 'Hip': 37, 'Gender': 'F'}, {'ID': 19, 'Waist': 28, 'Hip': 40, 'Gender': 'F'}, {'ID': 20, 'Waist': 23, 'Hip': 35, 'Gender': 'F'}]\n"
     ]
    }
   ],
   "source": [
    "# Goal: Scrub and convert the data, loading it into a new list called rows\n",
    "\n",
    "# Strips out newline '\\n' characters and converts to a list\n",
    "raw_rows = [r.rstrip('\\n').split(',') for r in raw_lines] # <--- Whoa. Why does this work? \n",
    "\n",
    "# Creates a new list, starting with just the column names\n",
    "rows = list() \n",
    "\n",
    "# The first row is the keys wit the column names\n",
    "keys = raw_rows[0];\n",
    "\n",
    "# Convert each raw_row, starting with the second\n",
    "for raw_row in raw_rows[1:]:\n",
    "    \n",
    "    # Note: the values in the raw_row list are all strings.\n",
    "    # Create a new list called row that converts each item in raw_row to the right data type  \n",
    "    row = [int(raw_row[0]),int(raw_row[1]),int(raw_row[2]),raw_row[3]]\n",
    "    \n",
    "    # structure the row as a dict \n",
    "    record = dict(zip(keys,row)) # this is the tricky way; your way may take more lines of code \n",
    "    \n",
    "    # Append the new row to the rows list as a dictionary\n",
    "    rows.append(record)\n",
    "    \n",
    "    \n",
    "# from here on out use the rows list instead of raw_rows or raw_lines\n",
    "print(rows)"
   ]
  },
  {
   "cell_type": "markdown",
   "metadata": {},
   "source": [
    "## Calculations"
   ]
  },
  {
   "cell_type": "code",
   "execution_count": 64,
   "metadata": {},
   "outputs": [],
   "source": [
    "# Goal: For each row of data calculate and store the w2h_ratio and shape.\n",
    "\n",
    "\n",
    "# For each row in the rows list, calculate the waist to hips ratio and shape\n",
    "for row in rows:\n",
    "    # Calculate the w2h_ratio \n",
    "    w2h_ratio = row['Waist']/row['Hip']\n",
    "    \n",
    "    # Based on the ratio and the gender, set the variable shape to either 'apple' or 'pear'\n",
    "    #shape = 'Pear' # FIX THIS; you will need to use a conditional\n",
    "    if ((row['Gender']=='M' and w2h_ratio > 0.9) or (row['Gender'] == 'F' and w2h_ratio > 0.8)) :\n",
    "        shape = \"Apple\"\n",
    "    else:\n",
    "        shape = \"Pear\"\n",
    "    \n",
    "    # Add the new data to the end of the row\n",
    "    row[\"w2H_Ratio\"]=w2h_ratio\n",
    "    row[\"Shape\"] = shape\n",
    "    "
   ]
  },
  {
   "cell_type": "markdown",
   "metadata": {},
   "source": [
    "## Output"
   ]
  },
  {
   "cell_type": "code",
   "execution_count": 57,
   "metadata": {},
   "outputs": [
    {
     "ename": "NameError",
     "evalue": "name 'records' is not defined",
     "output_type": "error",
     "traceback": [
      "\u001b[1;31m---------------------------------------------------------------------------\u001b[0m",
      "\u001b[1;31mNameError\u001b[0m                                 Traceback (most recent call last)",
      "\u001b[1;32m<ipython-input-57-c04196f78728>\u001b[0m in \u001b[0;36m<module>\u001b[1;34m()\u001b[0m\n\u001b[0;32m      3\u001b[0m \u001b[1;31m# Note: this works, but we can do this much better with pandas\u001b[0m\u001b[1;33m\u001b[0m\u001b[1;33m\u001b[0m\u001b[0m\n\u001b[0;32m      4\u001b[0m \u001b[0mhtml_table\u001b[0m \u001b[1;33m=\u001b[0m \u001b[1;34m'<table><tr><th>'\u001b[0m\u001b[1;33m\u001b[0m\u001b[0m\n\u001b[1;32m----> 5\u001b[1;33m \u001b[0mhtml_table\u001b[0m \u001b[1;33m+=\u001b[0m \u001b[1;34m\"</th><th>\"\u001b[0m\u001b[1;33m.\u001b[0m\u001b[0mjoin\u001b[0m\u001b[1;33m(\u001b[0m\u001b[0mrecords\u001b[0m\u001b[1;33m[\u001b[0m\u001b[1;36m0\u001b[0m\u001b[1;33m]\u001b[0m\u001b[1;33m)\u001b[0m\u001b[1;33m\u001b[0m\u001b[0m\n\u001b[0m\u001b[0;32m      6\u001b[0m \u001b[0mhtml_table\u001b[0m \u001b[1;33m+=\u001b[0m \u001b[1;34m'</th></tr>'\u001b[0m\u001b[1;33m\u001b[0m\u001b[0m\n\u001b[0;32m      7\u001b[0m \u001b[1;32mfor\u001b[0m \u001b[0mrecords\u001b[0m \u001b[1;32min\u001b[0m \u001b[0mrecords\u001b[0m\u001b[1;33m[\u001b[0m\u001b[1;36m1\u001b[0m\u001b[1;33m:\u001b[0m\u001b[1;33m]\u001b[0m\u001b[1;33m:\u001b[0m\u001b[1;33m\u001b[0m\u001b[0m\n",
      "\u001b[1;31mNameError\u001b[0m: name 'records' is not defined"
     ]
    }
   ],
   "source": [
    "# Goal: pretty print the rows as an HTML table\n",
    "\n",
    "# Note: this works, but we can do this much better with pandas\n",
    "html_table = '<table><tr><th>'\n",
    "html_table += \"</th><th>\".join(rows[0])\n",
    "html_table += '</th></tr>'\n",
    "for records in records[1:]:\n",
    "    html_table += \"<tr><td>\"\n",
    "    html_table += \"</td><td>\".join(str(col) for col in record)\n",
    "    html_table += <td>\" + row[\"ID\"]\n",
    "    \n",
    "    html_table += \"</td></tr>\"\n",
    "html_table += \"</table>\"\n",
    "\n",
    "from IPython.display import HTML, display\n",
    "display(HTML(html_table))"
   ]
  },
  {
   "cell_type": "code",
   "execution_count": null,
   "metadata": {},
   "outputs": [],
   "source": []
  },
  {
   "cell_type": "code",
   "execution_count": null,
   "metadata": {},
   "outputs": [],
   "source": []
  },
  {
   "cell_type": "code",
   "execution_count": null,
   "metadata": {},
   "outputs": [],
   "source": []
  }
 ],
 "metadata": {
  "kernelspec": {
   "display_name": "Python 3",
   "language": "python",
   "name": "python3"
  },
  "language_info": {
   "codemirror_mode": {
    "name": "ipython",
    "version": 3
   },
   "file_extension": ".py",
   "mimetype": "text/x-python",
   "name": "python",
   "nbconvert_exporter": "python",
   "pygments_lexer": "ipython3",
   "version": "3.6.5"
  }
 },
 "nbformat": 4,
 "nbformat_minor": 2
}
